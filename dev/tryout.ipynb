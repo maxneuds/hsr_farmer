{
 "cells": [
  {
   "cell_type": "code",
   "execution_count": 3,
   "metadata": {},
   "outputs": [
    {
     "name": "stdout",
     "output_type": "stream",
     "text": [
      "1.000144\n"
     ]
    }
   ],
   "source": [
    "from datetime import datetime as dt, timedelta\n",
    "from time import sleep\n",
    "\n",
    "t0 = dt.now()\n",
    "sleep(1)\n",
    "delta = (dt.now() - t0).total_seconds()\n",
    "print(delta)\n"
   ]
  }
 ],
 "metadata": {
  "kernelspec": {
   "display_name": ".venv",
   "language": "python",
   "name": "python3"
  },
  "language_info": {
   "codemirror_mode": {
    "name": "ipython",
    "version": 3
   },
   "file_extension": ".py",
   "mimetype": "text/x-python",
   "name": "python",
   "nbconvert_exporter": "python",
   "pygments_lexer": "ipython3",
   "version": "3.12.3"
  }
 },
 "nbformat": 4,
 "nbformat_minor": 2
}
